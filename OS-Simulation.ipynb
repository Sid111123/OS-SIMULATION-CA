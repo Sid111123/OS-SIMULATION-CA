{
 "cells": [
  {
   "cell_type": "code",
   "execution_count": null,
   "id": "731d7f45",
   "metadata": {},
   "outputs": [
    {
     "name": "stdout",
     "output_type": "stream",
     "text": [
      "\n",
      "Time: 0 minutes\n",
      "No requests at this time.\n"
     ]
    }
   ],
   "source": [
    "from queue import Queue\n",
    "\n",
    "# Create queues for students and faculty\n",
    "student_queue = Queue()\n",
    "faculty_queue = Queue()\n",
    "\n",
    "# Dedicate 5 minutes to each request\n",
    "time_per_request = 5\n",
    "\n",
    "# Loop through requests for 2 hours (120 minutes)\n",
    "for i in range(0, 121, 20):\n",
    "    print(f\"\\nTime: {i} minutes\")\n",
    "\n",
    "    # Handle requests in both queues\n",
    "    if not student_queue.empty() and not faculty_queue.empty():\n",
    "        for _ in range(2):\n",
    "            print(\"Handling student request...\")\n",
    "            student_request = student_queue.get()\n",
    "            # process student request\n",
    "\n",
    "            print(\"Handling faculty request...\")\n",
    "            faculty_request = faculty_queue.get()\n",
    "            # process faculty request\n",
    "\n",
    "    # Handle requests in student queue\n",
    "    elif not student_queue.empty():\n",
    "        print(\"Handling student request...\")\n",
    "        student_request = student_queue.get()\n",
    "        # process student request\n",
    "\n",
    "    # Handle requests in faculty queue\n",
    "    elif not faculty_queue.empty():\n",
    "        print(\"Handling faculty request...\")\n",
    "        faculty_request = faculty_queue.get()\n",
    "        # process faculty request\n",
    "\n",
    "    # No requests in either queue\n",
    "    else:\n",
    "        print(\"No requests at this time.\")\n",
    "\n",
    "    # Prompt user for request type and add to appropriate queue\n",
    "    request_type = input(\"Enter request type (student or faculty): \")\n",
    "    request = input(\"Enter request: \")\n",
    "    if request_type == \"student\":\n",
    "        student_queue.put(request)\n",
    "    elif request_type == \"faculty\":\n",
    "        faculty_queue.put(request)\n",
    "    else:\n",
    "        print(\"Invalid request type. Request not added.\")\n",
    "\n",
    "# Calculate total time spent and average query time\n",
    "total_time = time_per_request * (i // 20 + 1)\n",
    "num_requests = student_queue.qsize() + faculty_queue.qsize()\n",
    "avg_query_time = total_time / num_requests\n",
    "\n",
    "print(f\"\\nTotal time spent: {total_time} minutes\")\n",
    "print(f\"Average query time: {avg_query_time} minutes\")\n"
   ]
  },
  {
   "cell_type": "code",
   "execution_count": null,
   "id": "9c740be0",
   "metadata": {},
   "outputs": [],
   "source": []
  }
 ],
 "metadata": {
  "kernelspec": {
   "display_name": "Python 3 (ipykernel)",
   "language": "python",
   "name": "python3"
  },
  "language_info": {
   "codemirror_mode": {
    "name": "ipython",
    "version": 3
   },
   "file_extension": ".py",
   "mimetype": "text/x-python",
   "name": "python",
   "nbconvert_exporter": "python",
   "pygments_lexer": "ipython3",
   "version": "3.9.12"
  }
 },
 "nbformat": 4,
 "nbformat_minor": 5
}
